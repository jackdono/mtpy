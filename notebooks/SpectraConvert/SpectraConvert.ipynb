{
 "cells": [
  {
   "cell_type": "markdown",
   "id": "eb16207d",
   "metadata": {},
   "source": [
    "Install mtpy (you probably only need to run this once)"
   ]
  },
  {
   "cell_type": "code",
   "execution_count": null,
   "id": "4c99b2e1",
   "metadata": {},
   "outputs": [],
   "source": [
    "%pip install mtpy"
   ]
  },
  {
   "cell_type": "markdown",
   "id": "8c25b1ec",
   "metadata": {},
   "source": [
    "Imports"
   ]
  },
  {
   "cell_type": "code",
   "execution_count": 23,
   "id": "12e7371b",
   "metadata": {},
   "outputs": [],
   "source": [
    "import mtpy.core.edi as mtedi\n",
    "import os"
   ]
  },
  {
   "cell_type": "markdown",
   "id": "cf1f68d9",
   "metadata": {},
   "source": [
    "Specify input and output directories"
   ]
  },
  {
   "cell_type": "code",
   "execution_count": 24,
   "id": "61b0a37a",
   "metadata": {},
   "outputs": [],
   "source": [
    "# ----------------------------------------------------------------------------------\n",
    "# Directory containing EDI files to convert\n",
    "edipath=r'C:\\Users\\Jack Donohue\\Desktop\\MTpy\\mtpy\\notebooks\\SpectraConvert\\data'\n",
    "# Directory to store converted files\n",
    "outpath=r'C:\\Users\\Jack Donohue\\Desktop\\MTpy\\mtpy\\notebooks\\SpectraConvert\\converted'\n",
    "# ----------------------------------------------------------------------------------\n",
    "\n",
    "\n",
    "# Create the output directory if it doesn't exist\n",
    "os.makedirs(outpath, exist_ok=True)\n",
    "\n",
    "# Get the directories of all the files\n",
    "edilist=[os.path.join(edipath,edi)\n",
    "    for edi in os.listdir(edipath)\n",
    "        if edi.find('.edi')>0]"
   ]
  },
  {
   "cell_type": "markdown",
   "id": "ac4a1b49",
   "metadata": {},
   "source": [
    "Run the conversion"
   ]
  },
  {
   "cell_type": "code",
   "execution_count": 33,
   "id": "a9a39581",
   "metadata": {},
   "outputs": [
    {
     "name": "stdout",
     "output_type": "stream",
     "text": [
      "Converting 66 files...\n",
      "\n",
      "Conversion of L15S08.edi failed with error: OverflowError('math range error')\n",
      "Done (65/66)\n"
     ]
    }
   ],
   "source": [
    "# Run conversion \n",
    "# The old code was manually slicing the path string to get the filename without the extension\n",
    "\n",
    "print(f'Converting {len(edilist)} files...\\n')\n",
    "\n",
    "\n",
    "errcount = 0\n",
    "for n in edilist:\n",
    "    # Split the filename on '.', take the first element (the name)\n",
    "    filename_noext = os.path.splitext(os.path.basename(n))[0]\n",
    "    bloc = outpath +'\\\\'+ filename_noext + '.edi'\n",
    "    try:\n",
    "        eo = mtedi.Edi(n)\n",
    "        eo.write_edi_file(bloc)\n",
    "    except Exception as e:\n",
    "        errcount += 1\n",
    "        print(f'Conversion of {filename_noext+\".edi\"} failed with error: {repr(e)}')\n",
    "print(f'Done ({len(edilist)-errcount}/{len(edilist)})')"
   ]
  }
 ],
 "metadata": {
  "kernelspec": {
   "display_name": "mlenv",
   "language": "python",
   "name": "mlenv"
  },
  "language_info": {
   "codemirror_mode": {
    "name": "ipython",
    "version": 3
   },
   "file_extension": ".py",
   "mimetype": "text/x-python",
   "name": "python",
   "nbconvert_exporter": "python",
   "pygments_lexer": "ipython3",
   "version": "3.9.6"
  }
 },
 "nbformat": 4,
 "nbformat_minor": 5
}

{
 "cells": [
  {
   "cell_type": "markdown",
   "id": "b9d6b3ec",
   "metadata": {},
   "source": [
    "Install mtpy (you probably only need to run this once)"
   ]
  },
  {
   "cell_type": "code",
   "execution_count": 1,
   "id": "4f2dbd25",
   "metadata": {},
   "outputs": [
    {
     "name": "stdout",
     "output_type": "stream",
     "text": [
      "Requirement already satisfied: mtpy in c:\\users\\john\\appdata\\roaming\\python\\python38\\site-packages (1.1.3)\n",
      "Requirement already satisfied: numpy>=1.8.1 in c:\\users\\john\\appdata\\roaming\\python\\python38\\site-packages (from mtpy) (1.19.2)\n",
      "Requirement already satisfied: scipy>=0.14.0 in c:\\users\\john\\appdata\\roaming\\python\\python38\\site-packages (from mtpy) (1.5.2)\n",
      "Requirement already satisfied: pyproj in c:\\users\\john\\appdata\\roaming\\python\\python38\\site-packages (from mtpy) (2.6.1.post1)\n",
      "Requirement already satisfied: configparser in c:\\users\\john\\appdata\\roaming\\python\\python38\\site-packages (from mtpy) (5.0.0)\n",
      "Requirement already satisfied: pyyaml in c:\\users\\john\\appdata\\roaming\\python\\python38\\site-packages (from mtpy) (5.3.1)\n",
      "Requirement already satisfied: matplotlib in c:\\users\\john\\appdata\\roaming\\python\\python38\\site-packages (from mtpy) (3.3.2)\n",
      "Requirement already satisfied: pyparsing!=2.0.4,!=2.1.2,!=2.1.6,>=2.0.3 in c:\\users\\john\\appdata\\roaming\\python\\python38\\site-packages (from matplotlib->mtpy) (2.4.7)\n",
      "Requirement already satisfied: pillow>=6.2.0 in c:\\users\\john\\appdata\\roaming\\python\\python38\\site-packages (from matplotlib->mtpy) (7.2.0)\n",
      "Requirement already satisfied: certifi>=2020.06.20 in c:\\users\\john\\appdata\\roaming\\python\\python38\\site-packages (from matplotlib->mtpy) (2020.6.20)\n",
      "Requirement already satisfied: kiwisolver>=1.0.1 in c:\\users\\john\\appdata\\roaming\\python\\python38\\site-packages (from matplotlib->mtpy) (1.2.0)\n",
      "Requirement already satisfied: cycler>=0.10 in c:\\users\\john\\appdata\\roaming\\python\\python38\\site-packages (from matplotlib->mtpy) (0.10.0)\n",
      "Requirement already satisfied: python-dateutil>=2.1 in c:\\users\\john\\appdata\\roaming\\python\\python38\\site-packages (from matplotlib->mtpy) (2.8.1)\n",
      "Requirement already satisfied: six in c:\\users\\john\\appdata\\roaming\\python\\python38\\site-packages (from cycler>=0.10->matplotlib->mtpy) (1.15.0)\n",
      "Note: you may need to restart the kernel to use updated packages.\n"
     ]
    },
    {
     "name": "stderr",
     "output_type": "stream",
     "text": [
      "WARNING: You are using pip version 20.2.3; however, version 22.3.1 is available.\n",
      "You should consider upgrading via the 'C:\\Users\\John\\Anaconda3\\python.exe -m pip install --upgrade pip' command.\n"
     ]
    }
   ],
   "source": [
    "%pip install mtpy"
   ]
  },
  {
   "cell_type": "markdown",
   "id": "51395a1f",
   "metadata": {},
   "source": [
    "### 1. Imports"
   ]
  },
  {
   "cell_type": "code",
   "execution_count": 1,
   "id": "d04893f9",
   "metadata": {},
   "outputs": [
    {
     "name": "stderr",
     "output_type": "stream",
     "text": [
      "GDAL_DATA environment variable is not set  Please see https://trac.osgeo.org/gdal/wiki/FAQInstallationAndBuilding#HowtosetGDAL_DATAvariable \n"
     ]
    },
    {
     "name": "stdout",
     "output_type": "stream",
     "text": [
      "Ignore GDAL as it is not working. Will use pyproj\n"
     ]
    },
    {
     "name": "stderr",
     "output_type": "stream",
     "text": [
      "WARNING:mtpy.utils.decorator:GDAL_DATA environment variable is not set  Please see https://trac.osgeo.org/gdal/wiki/FAQInstallationAndBuilding#HowtosetGDAL_DATAvariable \n",
      "WARNING:mtpy.utils.decorator:GDAL_DATA environment variable is not set  Please see https://trac.osgeo.org/gdal/wiki/FAQInstallationAndBuilding#HowtosetGDAL_DATAvariable \n"
     ]
    },
    {
     "name": "stdout",
     "output_type": "stream",
     "text": [
      "Ignore GDAL as it is not working. Will use pyproj\n",
      "Ignore GDAL as it is not working. Will use pyproj\n"
     ]
    }
   ],
   "source": [
    "import mtpy.core.edi as mtedi\n",
    "import os"
   ]
  },
  {
   "cell_type": "markdown",
   "id": "f0ce0649",
   "metadata": {},
   "source": [
    "### 2. Specify input and output directories"
   ]
  },
  {
   "cell_type": "code",
   "execution_count": 6,
   "id": "ae45f0d1",
   "metadata": {},
   "outputs": [],
   "source": [
    "# ----------------------------------------------------------------------------------\n",
    "# Directory containing EDI files to convert\n",
    "edipath=r'D:\\GD\\CUMM\\GSQ\\MT_Surveys\\Cloncurry\\WebApp'\n",
    "# Directory to store converted files\n",
    "outpath=r'D:\\GD\\CUMM\\GSQ\\MT_Surveys\\Cloncurry\\WebApp\\converted'\n",
    "# ----------------------------------------------------------------------------------\n",
    "\n",
    "\n",
    "# Create the output directory if it doesn't exist\n",
    "os.makedirs(outpath, exist_ok=True)\n",
    "\n",
    "# Get the directories of all the files\n",
    "edilist=[os.path.join(edipath,edi)\n",
    "    for edi in os.listdir(edipath)\n",
    "        if edi.find('.edi')>0]"
   ]
  },
  {
   "cell_type": "markdown",
   "id": "67e9c93d",
   "metadata": {},
   "source": [
    "### 3. Run the conversion"
   ]
  },
  {
   "cell_type": "code",
   "execution_count": 7,
   "id": "6789dedf",
   "metadata": {},
   "outputs": [
    {
     "name": "stdout",
     "output_type": "stream",
     "text": [
      "Converting 66 files...\n",
      "\n",
      "Conversion of L15S08.edi failed with error: OverflowError('math range error')\n",
      "Done (65/66)\n"
     ]
    }
   ],
   "source": [
    "print(f'Converting {len(edilist)} files...\\n')\n",
    "errcount = 0\n",
    "for n in edilist:\n",
    "    filename_noext = os.path.splitext(os.path.basename(n))[0]\n",
    "    bloc = outpath +'\\\\'+ filename_noext + '.edi'\n",
    "    try:\n",
    "        eo = mtedi.Edi(n)\n",
    "        eo.write_edi_file(bloc)\n",
    "    except Exception as e:\n",
    "        errcount += 1\n",
    "        print(f'Conversion of {filename_noext+\".edi\"} failed with error: {repr(e)}')\n",
    "print(f'Done ({len(edilist)-errcount}/{len(edilist)})')"
   ]
  },
  {
   "cell_type": "code",
   "execution_count": null,
   "id": "f55fac02",
   "metadata": {},
   "outputs": [],
   "source": []
  }
 ],
 "metadata": {
  "kernelspec": {
   "display_name": "Python 3",
   "language": "python",
   "name": "python3"
  },
  "language_info": {
   "codemirror_mode": {
    "name": "ipython",
    "version": 3
   },
   "file_extension": ".py",
   "mimetype": "text/x-python",
   "name": "python",
   "nbconvert_exporter": "python",
   "pygments_lexer": "ipython3",
   "version": "3.8.8"
  }
 },
 "nbformat": 4,
 "nbformat_minor": 5
}

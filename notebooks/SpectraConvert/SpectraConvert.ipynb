{
 "cells": [
  {
   "cell_type": "markdown",
   "id": "b9d6b3ec",
   "metadata": {},
   "source": [
    "Install mtpy (you probably only need to run this once)"
   ]
  },
  {
   "cell_type": "code",
   "execution_count": null,
   "id": "4f2dbd25",
   "metadata": {},
   "outputs": [],
   "source": [
    "%pip install mtpy"
   ]
  },
  {
   "cell_type": "markdown",
   "id": "51395a1f",
   "metadata": {},
   "source": [
    "Imports"
   ]
  },
  {
   "cell_type": "code",
   "execution_count": 23,
   "id": "d04893f9",
   "metadata": {},
   "outputs": [],
   "source": [
    "import mtpy.core.edi as mtedi\n",
    "import os"
   ]
  },
  {
   "cell_type": "markdown",
   "id": "f0ce0649",
   "metadata": {},
   "source": [
    "Specify input and output directories"
   ]
  },
  {
   "cell_type": "code",
   "execution_count": 24,
   "id": "ae45f0d1",
   "metadata": {},
   "outputs": [],
   "source": [
    "# ----------------------------------------------------------------------------------\n",
    "# Directory containing EDI files to convert\n",
    "edipath=r'C:\\Users\\Jack Donohue\\Desktop\\MTpy\\mtpy\\notebooks\\SpectraConvert\\data'\n",
    "# Directory to store converted files\n",
    "outpath=r'C:\\Users\\Jack Donohue\\Desktop\\MTpy\\mtpy\\notebooks\\SpectraConvert\\converted'\n",
    "# ----------------------------------------------------------------------------------\n",
    "\n",
    "\n",
    "# Create the output directory if it doesn't exist\n",
    "os.makedirs(outpath, exist_ok=True)\n",
    "\n",
    "# Get the directories of all the files\n",
    "edilist=[os.path.join(edipath,edi)\n",
    "    for edi in os.listdir(edipath)\n",
    "        if edi.find('.edi')>0]"
   ]
  },
  {
   "cell_type": "markdown",
   "id": "67e9c93d",
   "metadata": {},
   "source": [
    "Run the conversion"
   ]
  },
  {
   "cell_type": "code",
   "execution_count": 33,
   "id": "6789dedf",
   "metadata": {},
   "outputs": [
    {
     "name": "stdout",
     "output_type": "stream",
     "text": [
      "Converting 66 files...\n",
      "\n",
      "Conversion of L15S08.edi failed with error: OverflowError('math range error')\n",
      "Done (65/66)\n"
     ]
    }
   ],
   "source": [
    "print(f'Converting {len(edilist)} files...\\n')\n",
    "errcount = 0\n",
    "for n in edilist:\n",
    "    filename_noext = os.path.splitext(os.path.basename(n))[0]\n",
    "    bloc = outpath +'\\\\'+ filename_noext + '.edi'\n",
    "    try:\n",
    "        eo = mtedi.Edi(n)\n",
    "        eo.write_edi_file(bloc)\n",
    "    except Exception as e:\n",
    "        errcount += 1\n",
    "        print(f'Conversion of {filename_noext+\".edi\"} failed with error: {repr(e)}')\n",
    "print(f'Done ({len(edilist)-errcount}/{len(edilist)})')"
   ]
  }
 ],
 "metadata": {
  "kernelspec": {
   "display_name": "mlenv",
   "language": "python",
   "name": "mlenv"
  },
  "language_info": {
   "codemirror_mode": {
    "name": "ipython",
    "version": 3
   },
   "file_extension": ".py",
   "mimetype": "text/x-python",
   "name": "python",
   "nbconvert_exporter": "python",
   "pygments_lexer": "ipython3",
   "version": "3.9.6"
  }
 },
 "nbformat": 4,
 "nbformat_minor": 5
}
